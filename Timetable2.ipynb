{
  "nbformat": 4,
  "nbformat_minor": 0,
  "metadata": {
    "colab": {
      "provenance": [],
      "authorship_tag": "ABX9TyM6mqWbAG+0oEra918/6fi9",
      "include_colab_link": true
    },
    "kernelspec": {
      "name": "python3",
      "display_name": "Python 3"
    },
    "language_info": {
      "name": "python"
    }
  },
  "cells": [
    {
      "cell_type": "markdown",
      "metadata": {
        "id": "view-in-github",
        "colab_type": "text"
      },
      "source": [
        "<a href=\"https://colab.research.google.com/github/evgeny-kolonsky/timetable_validity/blob/main/Timetable2.ipynb\" target=\"_parent\"><img src=\"https://colab.research.google.com/assets/colab-badge.svg\" alt=\"Open In Colab\"/></a>"
      ]
    },
    {
      "cell_type": "markdown",
      "source": [
        "# Find timeslots in a week schedule feasible for lab lessons\n",
        "\n",
        "Evgeny Kolonsky  v.0.3.7\n",
        "\n"
      ],
      "metadata": {
        "id": "HuWp6AKYvhra"
      }
    },
    {
      "cell_type": "code",
      "source": [
        "import requests\n",
        "import json\n",
        "import numpy as np\n",
        "import pandas as pd\n",
        "import itertools"
      ],
      "metadata": {
        "id": "fOGDZGlEX1rO"
      },
      "execution_count": 1,
      "outputs": []
    },
    {
      "cell_type": "markdown",
      "source": [
        "# Constants and parameters"
      ],
      "metadata": {
        "id": "15ESFr08ghYa"
      }
    },
    {
      "cell_type": "code",
      "source": [
        "# תשפ''ה 2025/26 Winter semester\n",
        "url = 'https://raw.githubusercontent.com/evgeny-kolonsky/timetable_validity/main/2025_01.XLSX'\n",
        "\n",
        "excluded_groups = ['77'] # Usually 77 is a group for Chinese students"
      ],
      "metadata": {
        "id": "Hk7whUDJgkFu"
      },
      "execution_count": 2,
      "outputs": []
    },
    {
      "cell_type": "markdown",
      "source": [
        "# Classes and functions"
      ],
      "metadata": {
        "id": "nWljLF3TGjSx"
      }
    },
    {
      "cell_type": "code",
      "source": [
        "# function to make hoursmap as 2d np array days x hours\n",
        "# we read day and hours out of text description in timeslot\n",
        "# suggested that all timeslots start and xx:30, between 08:30 and 19:30,\n",
        "# which is not quite so for all published courses (sports may be exception)\n",
        "\n",
        "WEEK = ['ראשון','שני','שלישי','רביעי','חמישי']\n",
        "SLOTS = [f'{h:02d}:30' for  h in range(8, 20)] # 1 hour slots\n",
        "\n",
        "def EMPTY_MAP():\n",
        "  return np.zeros((len(WEEK), len(SLOTS)), dtype=int)\n",
        "\n",
        "\n",
        "def parse_slot(slot:dict):\n",
        "  group_hour = slot['hour']\n",
        "  group_day = slot['day']\n",
        "  hours_map = EMPTY_MAP()\n",
        "  hours_from, hours_to = group_hour.replace(' ', '').split('-')\n",
        "  if hours_from not in SLOTS or hours_to not in SLOTS:\n",
        "    # error message: irregular hours\n",
        "    #raise Exception(f'WARNING! irregular hours: {group_hour} {group_day}')\n",
        "    return hours_map # zero\n",
        "  hours_from_ind, hours_to_ind = SLOTS.index(hours_from), SLOTS.index(hours_to)\n",
        "  days_ind = WEEK.index(group_day)\n",
        "  hours_map[days_ind, hours_from_ind:hours_to_ind] = 1\n",
        "  return hours_map\n",
        "\n",
        "class schedule:\n",
        "\n",
        "  def __init__(self, slots=[]) -> None:\n",
        "      self.hourmap = EMPTY_MAP()\n",
        "      if len(slots) > 0:\n",
        "        for slot in slots:\n",
        "          self.hourmap += parse_slot(slot)\n",
        "\n",
        "  def __add__(self, other):\n",
        "    return schedule(self.hourmap + other.hourmap)\n",
        "\n",
        "  def __mul__(self, other):\n",
        "    # returns non-zero in case of overlapping\n",
        "    return np.sum(self.hourmap * other.hourmap)\n",
        "\n",
        "  def overload(self):\n",
        "    # return non-zero if there are slots with load > 1\n",
        "    return np.sum(self.hourmap > 1) > 0\n",
        "\n",
        "  def __str__(self):\n",
        "    symbols = ['.', 'x', 'X'] # represent digits as symbols\n",
        "    text = ''\n",
        "    for i, day in enumerate(WEEK):\n",
        "      text += f'{i+1:1d}'\n",
        "      for j, hour in enumerate(SLOTS):\n",
        "        if j % 3 == 0: # insert spacing for readbility\n",
        "          #text += ' '\n",
        "          pass\n",
        "        value = self.hourmap[i, j] # 0, 1 or more\n",
        "        if value > 2:\n",
        "          value = 2\n",
        "        text += f'{symbols[value]}'\n",
        "      text += '\\n'\n",
        "    return text\n",
        "\n",
        "\n",
        "class Combination():\n",
        "\n",
        "  def __init__(self, combination: tuple):\n",
        "    self.groups = []\n",
        "    for group_name in combination:\n",
        "      course_id, group_id = group_name.split('_')\n",
        "      course_id = int(course_id)\n",
        "      # Check if the course and group exist in the catalogue before accessing\n",
        "      if course_id in catalogue and group_id in catalogue[course_id]['groups']:\n",
        "        group = catalogue[course_id]['groups'][group_id]\n",
        "        self.groups.append(group)\n",
        "      else:\n",
        "        print(f\"WARNING: Course {course_id} or group {group_id} not found in catalogue. Skipping this combination.\")\n",
        "\n",
        "  def capacity(self):\n",
        "      # Return a default value if self.groups is empty to avoid the ValueError\n",
        "      return np.min([group['group_capacity'] for group in self.groups]) if self.groups else float('inf')\n",
        "\n",
        "  #def enrolled(self):\n",
        "  #  return np.min([group['group_enrolled'] for group in self.groups])\n",
        "\n",
        "  def __str__(self):\n",
        "    def printme(group):\n",
        "      return f'{group[\"id\"]}'\n",
        "\n",
        "    return ', '.join([printme(group) for group in self.groups])\n",
        "\n",
        "\n",
        "def timeslots_print(semester):\n",
        "  not_found = [x for x in semester if x not in catalogue]\n",
        "  if len(not_found) > 0:\n",
        "    print('WARNING! Courses not found in catalogue:', not_found)\n",
        "\n",
        "  basic_courses = {course_id: catalogue[course_id] for course_id in semester}\n",
        "\n",
        "\n",
        "  # Generate all possible combinations of basic courses\n",
        "  # and for each combination test it's feasibility\n",
        "\n",
        "  choises = [[\n",
        "                f'{course}_{group}'\n",
        "                for group in basic_courses[course]['groups']\n",
        "              ]\n",
        "              for course in basic_courses.keys()]\n",
        "\n",
        "  text = f'test_slot, {\", \".join([str(x) for x in semester])} , Su, Mo, Tu, We, Th\\n'\n",
        "\n",
        "  for test_slot in lab_course:\n",
        "    s0 = lab_course[test_slot]\n",
        "\n",
        "    for combination in itertools.product(*choises):\n",
        "      s  = schedule()\n",
        "      s.hourmap = np.copy(s0.hourmap) # total\n",
        "      # integrate hourmap for chosen combination of groups\n",
        "\n",
        "      for group in combination:\n",
        "        # extract course and group ids from element in combinations\n",
        "        course_id, group_id = group.split('_')\n",
        "        course_id = int(course_id)\n",
        "\n",
        "        slots = basic_courses[course_id]['groups'][group_id]['slots']\n",
        "        s.hourmap += schedule(slots).hourmap\n",
        "\n",
        "      if not s.overload():\n",
        "        # log to multiline text\n",
        "        stxt = ','.join(s.__str__().splitlines())\n",
        "        combo = Combination(combination)\n",
        "        text += f'{test_slot}, {combo.__str__()}, {stxt}\\n'\n",
        "\n",
        "  return text\n",
        "\n",
        "\n",
        "def load_catalogue(url, allowed_groups):\n",
        "\n",
        "  df = pd.read_excel(url)\n",
        "\n",
        "  catalogue = {} # from dataframe to json\n",
        "\n",
        "  # loop over events\n",
        "  for _, event in df.iterrows():\n",
        "\n",
        "    course_id = event['מקצוע']\n",
        "    if catalogue.get(course_id) is None:\n",
        "      catalogue[course_id] = {}\n",
        "      catalogue[course_id]['name'] = event['תיאור מקצוע עברית']\n",
        "      catalogue[course_id]['id'] = course_id\n",
        "      catalogue[course_id]['groups'] = {}\n",
        "\n",
        "    group_name = event['תיאור חבילת רישום']\n",
        "    if pd.isna(group_name):\n",
        "      continue\n",
        "    group_id = group_name.split()[0]\n",
        "\n",
        "    # Get rid of groups having names with prohibited substrings, like 77 - group for Chinese\n",
        "    if any(x in str(group_name) for x in excluded_groups):\n",
        "      continue\n",
        "\n",
        "    # check if course has restrictions for allowed groups\n",
        "    if (course_id in allowed_groups) and (group_id not in allowed_groups[course_id]):\n",
        "      continue\n",
        "\n",
        "    group_capacity = event['קיבולת חבילת רישום']\n",
        "    #group_enrolled = event['מספר רשומים UG']\n",
        "    # get rid of groups having zero capacity\n",
        "    if group_capacity == 0:\n",
        "      continue\n",
        "\n",
        "    if catalogue[course_id]['groups'].get(group_id) is None:\n",
        "      catalogue[course_id]['groups'][group_id] = {}\n",
        "      catalogue[course_id]['groups'][group_id]['group_capacity'] = group_capacity\n",
        "      #catalogue[course_id]['groups'][group_id]['group_enrolled'] = group_enrolled\n",
        "      catalogue[course_id]['groups'][group_id]['id'] = group_id\n",
        "      catalogue[course_id]['groups'][group_id]['slots'] = []\n",
        "\n",
        "    # loop over columns to choose non-empty slot\n",
        "    for group_day in ['ראשון','שני','שלישי','רביעי','חמישי']:\n",
        "      group_hour = event[group_day]\n",
        "      if not pd.isna(group_hour):\n",
        "        slot = {}\n",
        "        slot['hour'] = group_hour\n",
        "        slot['day'] = group_day\n",
        "        slot['type'] = event['סוג אירוע D']\n",
        "        catalogue[course_id]['groups'][group_id]['slots'].append(slot)\n",
        "\n",
        "  print(f'Loaded {len(catalogue)} courses')\n",
        "\n",
        "  return catalogue\n"
      ],
      "metadata": {
        "id": "9KXWoi65mU43"
      },
      "execution_count": 3,
      "outputs": []
    },
    {
      "cell_type": "markdown",
      "source": [
        "# Timeslots to be tested"
      ],
      "metadata": {
        "id": "YkaC92Nz7ecG"
      }
    },
    {
      "cell_type": "code",
      "source": [
        "RESTRICTED_SLOTS = []\n",
        "\n",
        "# Technion rules\n",
        "# 1. Sunday 08:30 do not use\n",
        "slot = {}\n",
        "slot['day'] = WEEK[0]\n",
        "slot['hour'] = '08:30-09:30'\n",
        "RESTRICTED_SLOTS.append(slot)\n",
        "\n",
        "# 2. Wednesday 12:30 and 13:30 do not use\n",
        "slot = {}\n",
        "slot['day'] = WEEK[3]\n",
        "slot['hour'] = '12:30-14:30'\n",
        "RESTRICTED_SLOTS.append(slot)\n",
        "\n",
        "# Physics rules\n",
        "# 3. Monday 14:30 do not use\n",
        "slot = {}\n",
        "slot['day'] = WEEK[1]\n",
        "slot['hour'] = '14:30-15:30'\n",
        "RESTRICTED_SLOTS.append(slot)\n",
        "\n",
        "RESTRICTED_MAP = schedule(RESTRICTED_SLOTS)\n",
        "print('RESTRICTED_MAP')\n",
        "print(RESTRICTED_MAP)\n",
        "\n",
        "# Generate all possible slots for a new lab course\n",
        "lab_course = {}\n",
        "for i, day in enumerate(WEEK):\n",
        "  for hours_from in ['08:30', '09:30', '11:30', '12:30', '14:30', '15:30']:\n",
        "    hours_from_ind = SLOTS.index(hours_from)\n",
        "    hours_to_ind = hours_from_ind + 3\n",
        "    slot_hours_text = f'{SLOTS[hours_from_ind]}-{SLOTS[hours_to_ind]}'\n",
        "    slot_name = f'day{i+1}.{hours_from}'\n",
        "    slot = {}\n",
        "    slot['day'] = day\n",
        "    slot['hour'] = slot_hours_text\n",
        "    s = schedule([slot])\n",
        "    # skip overlapped with restricted hours\n",
        "    if s * RESTRICTED_MAP == 0:\n",
        "      lab_course[slot_name] = s\n",
        "      #print(f'{slot_name}')\n",
        "      #print(s)\n"
      ],
      "metadata": {
        "id": "YhVV9gtY7eAe",
        "outputId": "04613e57-1312-4070-fe51-8a49f66455fd",
        "colab": {
          "base_uri": "https://localhost:8080/"
        }
      },
      "execution_count": 4,
      "outputs": [
        {
          "output_type": "stream",
          "name": "stdout",
          "text": [
            "RESTRICTED_MAP\n",
            "1x...........\n",
            "2......x.....\n",
            "3............\n",
            "4....xx......\n",
            "5............\n",
            "\n"
          ]
        }
      ]
    },
    {
      "cell_type": "markdown",
      "source": [
        "# Semester 1"
      ],
      "metadata": {
        "id": "8hHW9Uj4m7KF"
      }
    },
    {
      "cell_type": "code",
      "source": [
        "allowed_groups = {}\n",
        "allowed_groups[1040012] = {'SE031', 'SE033'}\n",
        "\n",
        "catalogue = load_catalogue(url, allowed_groups)\n",
        "\n",
        "\n",
        "semester = [1040012, 1040064, 1140074, 2340128, 1040000]\n",
        "\n",
        "print('Basic courses:')\n",
        "for course in semester:\n",
        "  print(f\"{course}: {catalogue[course]['name']}\")\n",
        "\n",
        "\n",
        "\n",
        "text = timeslots_print(semester)\n",
        "\n",
        "filename = 'semester1.csv'\n",
        "with open(filename, 'w', encoding='utf-8') as f:\n",
        "    f.write(text)\n",
        "\n",
        "print(f'Done. Detailed report saved to {filename}')\n",
        "\n",
        "df2 = pd.read_csv(filename)\n",
        "feasible_groups = df2['test_slot'].unique()\n",
        "print(f'Feasible_groups ({len(feasible_groups)}):')\n",
        "for group in feasible_groups:\n",
        "  print(group)\n",
        "\n"
      ],
      "metadata": {
        "id": "d_kxjbdamF_v",
        "outputId": "5e2be671-ff98-41d1-9653-13682e09a04e",
        "colab": {
          "base_uri": "https://localhost:8080/"
        },
        "collapsed": true
      },
      "execution_count": 5,
      "outputs": [
        {
          "output_type": "stream",
          "name": "stdout",
          "text": [
            "Loaded 80 courses\n",
            "Basic courses:\n",
            "1040012: חשבון דיפרנציאלי ואינטגרלי 1ת'\n",
            "1040064: אלגברה 1מ1\n",
            "1140074: פיסיקה 1פ'\n",
            "2340128: מבוא למחשב שפת פייתון\n",
            "1040000: מוכנות מתמטית לפיזיקה\n",
            "Done.\n",
            "Feasible_groups (13):\n",
            "day1.09:30\n",
            "day2.08:30\n",
            "day2.09:30\n",
            "day2.11:30\n",
            "day3.12:30\n",
            "day3.14:30\n",
            "day3.15:30\n",
            "day4.14:30\n",
            "day4.15:30\n",
            "day5.11:30\n",
            "day5.12:30\n",
            "day5.14:30\n",
            "day5.15:30\n",
            "Detailed report saved to semester1.csv\n"
          ]
        }
      ]
    },
    {
      "cell_type": "code",
      "source": [],
      "metadata": {
        "id": "_fl1qs-9k0ez"
      },
      "execution_count": 5,
      "outputs": []
    }
  ]
}